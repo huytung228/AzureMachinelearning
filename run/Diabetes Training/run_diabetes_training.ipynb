{
 "metadata": {
  "language_info": {
   "codemirror_mode": {
    "name": "ipython",
    "version": 3
   },
   "file_extension": ".py",
   "mimetype": "text/x-python",
   "name": "python",
   "nbconvert_exporter": "python",
   "pygments_lexer": "ipython3",
   "version": "3.8.8"
  },
  "orig_nbformat": 2,
  "kernelspec": {
   "name": "python388jvsc74a57bd05f241ac66a824fd623df8f70207952daa37a823f5fcefd7cce28277ffbff3a8c",
   "display_name": "Python 3.8.8 64-bit ('tutorial': conda)"
  },
  "metadata": {
   "interpreter": {
    "hash": "5f241ac66a824fd623df8f70207952daa37a823f5fcefd7cce28277ffbff3a8c"
   }
  }
 },
 "nbformat": 4,
 "nbformat_minor": 2,
 "cells": [
  {
   "cell_type": "code",
   "execution_count": 1,
   "metadata": {},
   "outputs": [
    {
     "output_type": "stream",
     "name": "stdout",
     "text": [
      "Workspace.create(name='huytung-ws', subscription_id='1f5e877f-48a6-4973-aa3b-ceead3340ce7', resource_group='huytung-rsgroup')\n"
     ]
    }
   ],
   "source": [
    "from azureml.core import Workspace, Run\n",
    "ws = Workspace.from_config()\n",
    "print(ws)"
   ]
  },
  {
   "cell_type": "code",
   "execution_count": 2,
   "metadata": {},
   "outputs": [],
   "source": [
    "datastore = ws.get_default_datastore()"
   ]
  },
  {
   "cell_type": "code",
   "execution_count": 3,
   "metadata": {},
   "outputs": [
    {
     "output_type": "stream",
     "name": "stdout",
     "text": [
      "Uploading an estimated of 1 files\n",
      "Uploading ../data/diabetes.csv\n",
      "Uploaded ../data/diabetes.csv, 1 files out of an estimated total of 1\n",
      "Uploaded 1 files\n"
     ]
    },
    {
     "output_type": "execute_result",
     "data": {
      "text/plain": [
       "$AZUREML_DATAREFERENCE_3dfca975d41b4d6f9c6b0eb36c2460ad"
      ]
     },
     "metadata": {},
     "execution_count": 3
    }
   ],
   "source": [
    "datastore.upload(src_dir='../data',\n",
    "                 target_path='datasets/diabetes',\n",
    "                 overwrite=True)"
   ]
  },
  {
   "cell_type": "code",
   "execution_count": 4,
   "metadata": {},
   "outputs": [
    {
     "output_type": "execute_result",
     "data": {
      "text/plain": [
       "{\n",
       "  \"name\": \"workspaceblobstore\",\n",
       "  \"container_name\": \"azureml-blobstore-553468aa-0d06-41b5-9905-8c4c963277fd\",\n",
       "  \"account_name\": \"huytungws8293462828\",\n",
       "  \"protocol\": \"https\",\n",
       "  \"endpoint\": \"core.windows.net\"\n",
       "}"
      ]
     },
     "metadata": {},
     "execution_count": 4
    }
   ],
   "source": [
    "datastore"
   ]
  },
  {
   "cell_type": "code",
   "execution_count": 5,
   "metadata": {},
   "outputs": [
    {
     "output_type": "execute_result",
     "data": {
      "text/plain": [
       "[({\n",
       "    \"name\": \"workspaceblobstore\",\n",
       "    \"container_name\": \"azureml-blobstore-553468aa-0d06-41b5-9905-8c4c963277fd\",\n",
       "    \"account_name\": \"huytungws8293462828\",\n",
       "    \"protocol\": \"https\",\n",
       "    \"endpoint\": \"core.windows.net\"\n",
       "  },\n",
       "  'datasets/diabetes/diabetes.csv')]"
      ]
     },
     "metadata": {},
     "execution_count": 5
    }
   ],
   "source": [
    "datastore_paths = [(datastore, 'datasets/diabetes/diabetes.csv')]\n",
    "datastore_paths"
   ]
  },
  {
   "cell_type": "code",
   "execution_count": 6,
   "metadata": {},
   "outputs": [],
   "source": [
    "from azureml.core import Dataset\n",
    "dataset = Dataset.Tabular.from_delimited_files(path=datastore_paths)"
   ]
  },
  {
   "cell_type": "code",
   "execution_count": 7,
   "metadata": {},
   "outputs": [
    {
     "output_type": "stream",
     "name": "stdout",
     "text": [
      "Exporting conda specifications for existing conda environment: tutorial\n"
     ]
    }
   ],
   "source": [
    "from azureml.core import Environment\n",
    "env = Environment.from_existing_conda_environment(name=\"huytung_env\",\n",
    "                                                    conda_environment_name=\"tutorial\")                                             "
   ]
  },
  {
   "cell_type": "code",
   "execution_count": 9,
   "metadata": {},
   "outputs": [
    {
     "output_type": "stream",
     "name": "stdout",
     "text": [
      "https://ml.azure.com/runs/mslearn-train-diabetes_1619418634_5485b9f0?wsid=/subscriptions/1f5e877f-48a6-4973-aa3b-ceead3340ce7/resourcegroups/huytung-rsgroup/workspaces/huytung-ws&tid=1fd983f3-dc44-42f8-ad66-7972e9d94659\n"
     ]
    }
   ],
   "source": [
    "from azureml.core import ScriptRunConfig, Experiment\n",
    "from azureml.widgets import RunDetails\n",
    "# Create a script config\n",
    "training_folder = './'\n",
    "script_config = ScriptRunConfig(source_directory=training_folder,\n",
    "                                script='diabetes_training.py',\n",
    "                                environment=env,\n",
    "                                compute_target = 'huytungcomputename',\n",
    "                                arguments=['--data_path', dataset.as_named_input('diabetes')]) \n",
    "\n",
    "# submit the experiment run\n",
    "experiment_name = 'mslearn-train-diabetes'\n",
    "experiment = Experiment(workspace=ws, name=experiment_name)\n",
    "run = experiment.submit(config=script_config)\n",
    "aml_url = run.get_portal_url()\n",
    "# Show the running experiment run in the notebook widget\n",
    "# RunDetails(run).show()\n",
    "\n",
    "# Block until the experiment run has completed\n",
    "run.wait_for_completion()\n",
    "print(aml_url)"
   ]
  },
  {
   "cell_type": "code",
   "execution_count": 10,
   "metadata": {},
   "outputs": [
    {
     "output_type": "stream",
     "name": "stdout",
     "text": [
      "Regularization Rate 0.01\n",
      "Accuracy 0.774\n",
      "AUC 0.8484437036668493\n",
      "\n",
      "\n",
      "azureml-logs/55_azureml-execution-tvmps_e18f985b2a2a85421be77841684473bc3ce38caa77df5fd10c25655aeba88109_d.txt\n",
      "azureml-logs/65_job_prep-tvmps_e18f985b2a2a85421be77841684473bc3ce38caa77df5fd10c25655aeba88109_d.txt\n",
      "azureml-logs/70_driver_log.txt\n",
      "azureml-logs/75_job_post-tvmps_e18f985b2a2a85421be77841684473bc3ce38caa77df5fd10c25655aeba88109_d.txt\n",
      "azureml-logs/process_info.json\n",
      "azureml-logs/process_status.json\n",
      "logs/azureml/99_azureml.log\n",
      "logs/azureml/dataprep/backgroundProcess.log\n",
      "logs/azureml/dataprep/backgroundProcess_Telemetry.log\n",
      "logs/azureml/job_prep_azureml.log\n",
      "logs/azureml/job_release_azureml.log\n",
      "outputs/diabetes_model.pkl\n"
     ]
    }
   ],
   "source": [
    "# Get logged metrics and files\n",
    "metrics = run.get_metrics()\n",
    "for key in metrics.keys():\n",
    "        print(key, metrics.get(key))\n",
    "print('\\n')\n",
    "for file in run.get_file_names():\n",
    "    print(file)"
   ]
  },
  {
   "cell_type": "code",
   "execution_count": 12,
   "metadata": {},
   "outputs": [
    {
     "output_type": "stream",
     "name": "stdout",
     "text": [
      "diabetes_model version: 1\n\t Training context : Script\n\t AUC : 0.8484437036668493\n\t Accuracy : 0.774\n\n\n"
     ]
    }
   ],
   "source": [
    "from azureml.core import Model\n",
    "\n",
    "# Register the model\n",
    "run.register_model(model_path='outputs/diabetes_model.pkl', model_name='diabetes_model',\n",
    "                   tags={'Training context':'Script'},\n",
    "                   properties={'AUC': run.get_metrics()['AUC'], 'Accuracy': run.get_metrics()['Accuracy']})\n",
    "\n",
    "# List registered models\n",
    "for model in Model.list(ws):\n",
    "    print(model.name, 'version:', model.version)\n",
    "    for tag_name in model.tags:\n",
    "        tag = model.tags[tag_name]\n",
    "        print ('\\t',tag_name, ':', tag)\n",
    "    for prop_name in model.properties:\n",
    "        prop = model.properties[prop_name]\n",
    "        print ('\\t',prop_name, ':', prop)\n",
    "    print('\\n')"
   ]
  },
  {
   "cell_type": "code",
   "execution_count": null,
   "metadata": {},
   "outputs": [],
   "source": []
  }
 ]
}